{
 "cells": [
  {
   "metadata": {},
   "cell_type": "markdown",
   "source": "# BOJ_10870 풀이",
   "id": "3eca7acf23d2efd7"
  },
  {
   "metadata": {},
   "cell_type": "markdown",
   "source": [
    "## 문제 풀이 방법\n",
    "1. 반복문 -> O(n)\n",
    "2. 재귀함수\n",
    "    1. 메모이제이션 X -> O(n^2)\n",
    "    2. 메모이제이션 O -> O(n)\n",
    "\n",
    "문제 조건 : 0 <= n <= 20\n",
    "- O(n) : 20번\n",
    "- O(n^2) : 2^20 -> 2^10 * 2^10 -> 1000 * 1000 (100만)"
   ],
   "id": "57aff1b0ae497a08"
  },
  {
   "metadata": {},
   "cell_type": "markdown",
   "source": [
    "## 메모이제이션\n",
    "이전에 연산한 결과를 사용 해야하는 경우에 배열에 저장하는 방법"
   ],
   "id": "ebb9b8526cb26003"
  },
  {
   "metadata": {},
   "cell_type": "markdown",
   "source": "",
   "id": "7a6437891c3f04bf"
  }
 ],
 "metadata": {
  "kernelspec": {
   "display_name": "Python 3",
   "language": "python",
   "name": "python3"
  },
  "language_info": {
   "codemirror_mode": {
    "name": "ipython",
    "version": 2
   },
   "file_extension": ".py",
   "mimetype": "text/x-python",
   "name": "python",
   "nbconvert_exporter": "python",
   "pygments_lexer": "ipython2",
   "version": "2.7.6"
  }
 },
 "nbformat": 4,
 "nbformat_minor": 5
}
