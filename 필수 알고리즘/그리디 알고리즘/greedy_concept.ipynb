{
 "cells": [
  {
   "metadata": {},
   "cell_type": "markdown",
   "source": [
    " # Greedy\n",
    "매 순간 최선인 선택을 하는 것으로 답을 찾아가는 방법\n",
    "최선인 선택 = 문제에서의 최적해\n",
    "\n",
    "## 특징\n",
    "- 그리디 알고리즘이 실패하는 경우에는 수학적으로 접근하거나 DP 알고리즘으로 해결해야 한다.\n",
    "\n",
    "## 풀이법\n",
    "- 매 순간의 최선의 선택 = 문제의 최적해 라는 조건을 충족하는지 판단해야 한다.\n",
    "- 경우에 따라서 문제를 재해석해야 한다.\n",
    "    - 선형 배열에서 정렬을 하는 것으로 그리디 알고리즘을 적용할 수도 있다. (정렬 + 그리디 는 많이 나오는 문제)\n",
    "- 재해석이 안된다면? 다른 풀이를 떠올려야 한다. ex) 브루트 포스, DP, 수학\n",
    "- 요소들간에 최적해를 구할 수 있도록 우선순위가 있어야 한다. = 최선의 선택을 판단하는 기준이 있어야 하는데, 이게 요소들 간에 우선순위가 있어야 가능"
   ],
   "id": "3fc7517b7b38ff5c"
  }
 ],
 "metadata": {
  "kernelspec": {
   "display_name": "Python 3",
   "language": "python",
   "name": "python3"
  },
  "language_info": {
   "codemirror_mode": {
    "name": "ipython",
    "version": 2
   },
   "file_extension": ".py",
   "mimetype": "text/x-python",
   "name": "python",
   "nbconvert_exporter": "python",
   "pygments_lexer": "ipython2",
   "version": "2.7.6"
  }
 },
 "nbformat": 4,
 "nbformat_minor": 5
}
